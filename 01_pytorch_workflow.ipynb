{
  "nbformat": 4,
  "nbformat_minor": 0,
  "metadata": {
    "colab": {
      "provenance": [],
      "gpuType": "T4"
    },
    "kernelspec": {
      "name": "python3",
      "display_name": "Python 3"
    },
    "language_info": {
      "name": "python"
    },
    "accelerator": "GPU"
  },
  "cells": [
    {
      "cell_type": "code",
      "execution_count": 1,
      "metadata": {
        "colab": {
          "base_uri": "https://localhost:8080/",
          "height": 35
        },
        "id": "qSv6Fi2ctbjD",
        "outputId": "20d737d5-2fee-4d63-a8ca-8198780a63cd"
      },
      "outputs": [
        {
          "output_type": "execute_result",
          "data": {
            "text/plain": [
              "'2.0.1+cu118'"
            ],
            "application/vnd.google.colaboratory.intrinsic+json": {
              "type": "string"
            }
          },
          "metadata": {},
          "execution_count": 1
        }
      ],
      "source": [
        "import torch\n",
        "from torch import nn\n",
        "#nn contains all the building blocks for nerual networks\n",
        "import matplotlib.pyplot as plt\n",
        "\n",
        "#check pyTorch version\n",
        "torch.__version__"
      ]
    },
    {
      "cell_type": "markdown",
      "source": [
        "#Data preparing and loading\n",
        "Machine learning has 2 parts ->\n",
        "1. Get data into numerical representation\n",
        "2. Fit the data to model to learn patterns\n",
        "\n",
        "* linear regresssion to make a straight line with known parameters"
      ],
      "metadata": {
        "id": "M97jaxhEuOtH"
      }
    },
    {
      "cell_type": "code",
      "source": [
        "#create known parameters\n",
        "weight = 0.7\n",
        "bias = 0.3\n",
        "\n",
        "# creating data\n",
        "start = 0\n",
        "end = 1\n",
        "step = 0.02\n",
        "X=torch.arange(start,end,step).unsqueeze(dim=1)\n",
        "y = weight * X + bias\n",
        "\n",
        "X[:10],y[:10]"
      ],
      "metadata": {
        "colab": {
          "base_uri": "https://localhost:8080/"
        },
        "id": "V99PxISMuElS",
        "outputId": "c34585c5-af03-4cc1-a4bf-7b98d96c39ab"
      },
      "execution_count": 2,
      "outputs": [
        {
          "output_type": "execute_result",
          "data": {
            "text/plain": [
              "(tensor([[0.0000],\n",
              "         [0.0200],\n",
              "         [0.0400],\n",
              "         [0.0600],\n",
              "         [0.0800],\n",
              "         [0.1000],\n",
              "         [0.1200],\n",
              "         [0.1400],\n",
              "         [0.1600],\n",
              "         [0.1800]]),\n",
              " tensor([[0.3000],\n",
              "         [0.3140],\n",
              "         [0.3280],\n",
              "         [0.3420],\n",
              "         [0.3560],\n",
              "         [0.3700],\n",
              "         [0.3840],\n",
              "         [0.3980],\n",
              "         [0.4120],\n",
              "         [0.4260]]))"
            ]
          },
          "metadata": {},
          "execution_count": 2
        }
      ]
    },
    {
      "cell_type": "code",
      "source": [
        "len(X),len(y)"
      ],
      "metadata": {
        "colab": {
          "base_uri": "https://localhost:8080/"
        },
        "id": "ZcC5kSoNvk0N",
        "outputId": "208eb114-ea8f-46aa-c6d9-7be5ef00ec68"
      },
      "execution_count": 3,
      "outputs": [
        {
          "output_type": "execute_result",
          "data": {
            "text/plain": [
              "(50, 50)"
            ]
          },
          "metadata": {},
          "execution_count": 3
        }
      ]
    },
    {
      "cell_type": "code",
      "source": [
        "#spliting data into training and testing data\n",
        "train_split = int(0.8 * len(X))\n",
        "X_train, y_train = X[:train_split],y[:train_split]\n",
        "X_test, y_test = X[train_split:],y[train_split:]\n",
        "len(X_train), len(y_train), len(X_test), len(y_test)"
      ],
      "metadata": {
        "colab": {
          "base_uri": "https://localhost:8080/"
        },
        "id": "6KAUk-3fvpH0",
        "outputId": "de26fe07-573b-4dd5-899a-6b03cddd50e3"
      },
      "execution_count": 4,
      "outputs": [
        {
          "output_type": "execute_result",
          "data": {
            "text/plain": [
              "(40, 40, 10, 10)"
            ]
          },
          "metadata": {},
          "execution_count": 4
        }
      ]
    },
    {
      "cell_type": "code",
      "source": [
        "#visualization\n",
        "\n",
        "def plot_pred(train_data=X_train,train_labels=y_train,test_data=X_test,test_labels=y_test,predictions=None):\n",
        "    plt.figure(figsize=(10,7))\n",
        "\n",
        "    #plot training data in blue\n",
        "    plt.scatter(train_data,train_labels,c=\"b\",s=4,label=\"Training data\")\n",
        "\n",
        "    #plot test data in blue\n",
        "    plt.scatter(test_data,test_labels,c=\"g\",s=4,label=\"Testing data\")\n",
        "\n",
        "    #plot predictions\n",
        "    if predictions is not None:\n",
        "        plt.scatter(test_data,predictions,c=\"r\",s=4,label=\"Predictions\")\n",
        "    #show the legend\n",
        "    plt.legend(prop={\"size\" : 14})"
      ],
      "metadata": {
        "id": "QUVVnECqv9lR"
      },
      "execution_count": 39,
      "outputs": []
    },
    {
      "cell_type": "code",
      "source": [
        "plot_pred()"
      ],
      "metadata": {
        "colab": {
          "base_uri": "https://localhost:8080/",
          "height": 599
        },
        "id": "GvZ12sEPyh_9",
        "outputId": "6022bd02-7d0c-4cf7-f104-920e11291d58"
      },
      "execution_count": 6,
      "outputs": [
        {
          "output_type": "display_data",
          "data": {
            "text/plain": [
              "<Figure size 1000x700 with 1 Axes>"
            ],
            "image/png": "[encoded data removed]"
          },
          "metadata": {}
        }
      ]
    },
    {
      "cell_type": "markdown",
      "source": [
        "#Buidling pytorch model\n"
      ],
      "metadata": {
        "id": "oDejEr0Lzcoe"
      }
    },
    {
      "cell_type": "code",
      "source": [
        "#Create linear regression model class\n",
        "class LinearRegressionModel(nn.Module):\n",
        "    def __init__(self):\n",
        "        super().__init__()\n",
        "        self.weights = nn.Parameter(torch.randn(1,requires_grad=True,dtype=torch.float))\n",
        "        self.bias = nn.Parameter(torch.randn(1,requires_grad=True,dtype=torch.float))\n",
        "\n",
        "    #method to define the computation in the model\n",
        "    #forward method needs to be overrided\n",
        "    def forward(self,x: torch.Tensor) -> torch.Tensor :\n",
        "        return self.weights  * x + self.bias"
      ],
      "metadata": {
        "id": "HCK3sbmmzcGn"
      },
      "execution_count": 7,
      "outputs": []
    },
    {
      "cell_type": "code",
      "source": [
        "#setting manuals seed to reproduce the results\n",
        "torch.manual_seed(49)\n",
        "\n",
        "#creating an instance of the model\n",
        "model=LinearRegressionModel()\n",
        "\n",
        "list(model.parameters())"
      ],
      "metadata": {
        "colab": {
          "base_uri": "https://localhost:8080/"
        },
        "id": "cMttT49R0flJ",
        "outputId": "e6a1af05-55a7-404a-f052-df58702b1743"
      },
      "execution_count": 8,
      "outputs": [
        {
          "output_type": "execute_result",
          "data": {
            "text/plain": [
              "[Parameter containing:\n",
              " tensor([-2.0157], requires_grad=True),\n",
              " Parameter containing:\n",
              " tensor([2.0106], requires_grad=True)]"
            ]
          },
          "metadata": {},
          "execution_count": 8
        }
      ]
    },
    {
      "cell_type": "code",
      "source": [
        "model.state_dict()"
      ],
      "metadata": {
        "colab": {
          "base_uri": "https://localhost:8080/"
        },
        "id": "6S_CeMEmymE8",
        "outputId": "a9cd8bd8-8aed-47bc-9909-d374a3bfdf14"
      },
      "execution_count": 9,
      "outputs": [
        {
          "output_type": "execute_result",
          "data": {
            "text/plain": [
              "OrderedDict([('weights', tensor([-2.0157])), ('bias', tensor([2.0106]))])"
            ]
          },
          "metadata": {},
          "execution_count": 9
        }
      ]
    },
    {
      "cell_type": "code",
      "source": [
        "X_test,y_test"
      ],
      "metadata": {
        "colab": {
          "base_uri": "https://localhost:8080/"
        },
        "id": "pvCfEbxh4-rd",
        "outputId": "20b6511f-d582-417a-d6e1-2d10b803b9cf"
      },
      "execution_count": 10,
      "outputs": [
        {
          "output_type": "execute_result",
          "data": {
            "text/plain": [
              "(tensor([[0.8000],\n",
              "         [0.8200],\n",
              "         [0.8400],\n",
              "         [0.8600],\n",
              "         [0.8800],\n",
              "         [0.9000],\n",
              "         [0.9200],\n",
              "         [0.9400],\n",
              "         [0.9600],\n",
              "         [0.9800]]),\n",
              " tensor([[0.8600],\n",
              "         [0.8740],\n",
              "         [0.8880],\n",
              "         [0.9020],\n",
              "         [0.9160],\n",
              "         [0.9300],\n",
              "         [0.9440],\n",
              "         [0.9580],\n",
              "         [0.9720],\n",
              "         [0.9860]]))"
            ]
          },
          "metadata": {},
          "execution_count": 10
        }
      ]
    },
    {
      "cell_type": "code",
      "source": [
        "#Making predictions with model\n",
        "\n",
        "with torch.inference_mode(): #in older version torch.no_grad() is used to be written\n",
        "    y_pred = model(X_test)"
      ],
      "metadata": {
        "id": "RC2MwjRV3941"
      },
      "execution_count": 11,
      "outputs": []
    },
    {
      "cell_type": "code",
      "source": [
        "plot_pred(predictions=y_pred)"
      ],
      "metadata": {
        "colab": {
          "base_uri": "https://localhost:8080/",
          "height": 599
        },
        "id": "65TAhc3949sf",
        "outputId": "76a9d893-f980-4594-d2e4-e21b41e67632"
      },
      "execution_count": 12,
      "outputs": [
        {
          "output_type": "display_data",
          "data": {
            "text/plain": [
              "<Figure size 1000x700 with 1 Axes>"
            ],
            "image/png": "[encoded data removed]"
          },
          "metadata": {}
        }
      ]
    },
    {
      "cell_type": "markdown",
      "source": [
        "#Training a model"
      ],
      "metadata": {
        "id": "Do02RymK6tvF"
      }
    },
    {
      "cell_type": "code",
      "source": [
        "#create the loss function\n",
        "loss_fn = nn.L1Loss()\n",
        "\n",
        "\n",
        "#creat the optimizer\n",
        "\n",
        "optimizer = torch.optim.SGD(params=model.parameters(),lr=0.01)"
      ],
      "metadata": {
        "id": "YpfbxqX16szS"
      },
      "execution_count": 13,
      "outputs": []
    },
    {
      "cell_type": "code",
      "source": [
        "model.state_dict()"
      ],
      "metadata": {
        "colab": {
          "base_uri": "https://localhost:8080/"
        },
        "id": "fM6KCUb1-G3i",
        "outputId": "86097fc4-f358-4015-af48-284a78242816"
      },
      "execution_count": 14,
      "outputs": [
        {
          "output_type": "execute_result",
          "data": {
            "text/plain": [
              "OrderedDict([('weights', tensor([-2.0157])), ('bias', tensor([2.0106]))])"
            ]
          },
          "metadata": {},
          "execution_count": 14
        }
      ]
    },
    {
      "cell_type": "code",
      "source": [
        "#an epoch is a one loop through data\n",
        "epochs = 300\n",
        "\n",
        "#Tracking experiments\n",
        "epoch_count=[]\n",
        "loss_values=[]\n",
        "test_loss_values=[]\n",
        "\n",
        "## Training\n",
        "for epoch in range(epochs):\n",
        "\n",
        "    model.train() # sets all parameters that require gradient\n",
        "\n",
        "\n",
        "    # 1. Forward pass\n",
        "    y_pred = model(X_train)\n",
        "\n",
        "    # 2. Calculate loss\n",
        "    loss = loss_fn(y_pred,y_train)\n",
        "\n",
        "    # 3. Optimizer zero grad\n",
        "    optimizer.zero_grad()\n",
        "\n",
        "    # 4. Perform backpropagation on the loss with respect to the parameters of the model\n",
        "    loss.backward()\n",
        "\n",
        "    # 5. Step the optimizer (perform gradient descent)\n",
        "    optimizer.step()\n",
        "\n",
        "\n",
        "    #Testing\n",
        "    model.eval() # turn off different settings not needed for evalution/testing\n",
        "    with torch.inference_mode():\n",
        "        # 1. Do forward pass\n",
        "        test_pred = model(X_test)\n",
        "\n",
        "        # 2. Calculate the loss\n",
        "        test_loss = loss_fn(test_pred,y_test)\n",
        "\n",
        "\n",
        "    if epoch % 10 == 0 :\n",
        "        epoch_count.append(epoch)\n",
        "        loss_values.append(loss.detach().numpy())\n",
        "        test_loss_values.append(test_loss.detach().numpy())\n",
        "        print(f\"Epoch : {epoch} | Loss : {loss} | Test loss : {test_loss}\")\n",
        "        print(model.state_dict())"
      ],
      "metadata": {
        "colab": {
          "base_uri": "https://localhost:8080/"
        },
        "id": "Z0Jf1NVk5Xkv",
        "outputId": "c416ee61-073c-4577-9251-73337fcb7844"
      },
      "execution_count": 15,
      "outputs": [
        {
          "output_type": "stream",
          "name": "stdout",
          "text": [
            "Epoch : 0 | Loss : 0.7384690046310425 | Test loss : 0.7133610248565674\n",
            "OrderedDict([('weights', tensor([-2.0168])), ('bias', tensor([2.0046]))])\n",
            "Epoch : 10 | Loss : 0.7048241496086121 | Test loss : 0.7781400084495544\n",
            "OrderedDict([('weights', tensor([-2.0255])), ('bias', tensor([1.9476]))])\n",
            "Epoch : 20 | Loss : 0.6776574850082397 | Test loss : 0.8344452977180481\n",
            "OrderedDict([('weights', tensor([-2.0309])), ('bias', tensor([1.8961]))])\n",
            "Epoch : 30 | Loss : 0.6555935144424438 | Test loss : 0.883143424987793\n",
            "OrderedDict([('weights', tensor([-2.0334])), ('bias', tensor([1.8496]))])\n",
            "Epoch : 40 | Loss : 0.637226402759552 | Test loss : 0.9258216023445129\n",
            "OrderedDict([('weights', tensor([-2.0336])), ('bias', tensor([1.8071]))])\n",
            "Epoch : 50 | Loss : 0.6216011047363281 | Test loss : 0.9632730484008789\n",
            "OrderedDict([('weights', tensor([-2.0318])), ('bias', tensor([1.7681]))])\n",
            "Epoch : 60 | Loss : 0.609199047088623 | Test loss : 0.9948013424873352\n",
            "OrderedDict([('weights', tensor([-2.0279])), ('bias', tensor([1.7331]))])\n",
            "Epoch : 70 | Loss : 0.5980864763259888 | Test loss : 1.0226733684539795\n",
            "OrderedDict([('weights', tensor([-2.0227])), ('bias', tensor([1.7006]))])\n",
            "Epoch : 80 | Loss : 0.5886639356613159 | Test loss : 1.0468894243240356\n",
            "OrderedDict([('weights', tensor([-2.0162])), ('bias', tensor([1.6706]))])\n",
            "Epoch : 90 | Loss : 0.5802330374717712 | Test loss : 1.0674923658370972\n",
            "OrderedDict([('weights', tensor([-2.0085])), ('bias', tensor([1.6431]))])\n",
            "Epoch : 100 | Loss : 0.5731728672981262 | Test loss : 1.0844826698303223\n",
            "OrderedDict([('weights', tensor([-1.9995])), ('bias', tensor([1.6181]))])\n",
            "Epoch : 110 | Loss : 0.5661128163337708 | Test loss : 1.101473093032837\n",
            "OrderedDict([('weights', tensor([-1.9905])), ('bias', tensor([1.5931]))])\n",
            "Epoch : 120 | Loss : 0.5604833364486694 | Test loss : 1.1120405197143555\n",
            "OrderedDict([('weights', tensor([-1.9793])), ('bias', tensor([1.5726]))])\n",
            "Epoch : 130 | Loss : 0.5551837682723999 | Test loss : 1.121894121170044\n",
            "OrderedDict([('weights', tensor([-1.9679])), ('bias', tensor([1.5526]))])\n",
            "Epoch : 140 | Loss : 0.5498842000961304 | Test loss : 1.1317479610443115\n",
            "OrderedDict([('weights', tensor([-1.9565])), ('bias', tensor([1.5326]))])\n",
            "Epoch : 150 | Loss : 0.5447643995285034 | Test loss : 1.1401923894882202\n",
            "OrderedDict([('weights', tensor([-1.9447])), ('bias', tensor([1.5136]))])\n",
            "Epoch : 160 | Loss : 0.5406374931335449 | Test loss : 1.1429998874664307\n",
            "OrderedDict([('weights', tensor([-1.9310])), ('bias', tensor([1.4986]))])\n",
            "Epoch : 170 | Loss : 0.5365106463432312 | Test loss : 1.1458075046539307\n",
            "OrderedDict([('weights', tensor([-1.9173])), ('bias', tensor([1.4836]))])\n",
            "Epoch : 180 | Loss : 0.5323837995529175 | Test loss : 1.1486150026321411\n",
            "OrderedDict([('weights', tensor([-1.9036])), ('bias', tensor([1.4686]))])\n",
            "Epoch : 190 | Loss : 0.5282569527626038 | Test loss : 1.1514225006103516\n",
            "OrderedDict([('weights', tensor([-1.8899])), ('bias', tensor([1.4536]))])\n",
            "Epoch : 200 | Loss : 0.5241300463676453 | Test loss : 1.154229998588562\n",
            "OrderedDict([('weights', tensor([-1.8762])), ('bias', tensor([1.4386]))])\n",
            "Epoch : 210 | Loss : 0.5201998949050903 | Test loss : 1.1542543172836304\n",
            "OrderedDict([('weights', tensor([-1.8616])), ('bias', tensor([1.4256]))])\n",
            "Epoch : 220 | Loss : 0.5166716575622559 | Test loss : 1.1501035690307617\n",
            "OrderedDict([('weights', tensor([-1.8457])), ('bias', tensor([1.4156]))])\n",
            "Epoch : 230 | Loss : 0.5131434798240662 | Test loss : 1.1459529399871826\n",
            "OrderedDict([('weights', tensor([-1.8298])), ('bias', tensor([1.4056]))])\n",
            "Epoch : 240 | Loss : 0.5096153616905212 | Test loss : 1.1418023109436035\n",
            "OrderedDict([('weights', tensor([-1.8139])), ('bias', tensor([1.3956]))])\n",
            "Epoch : 250 | Loss : 0.5060871839523315 | Test loss : 1.1376516819000244\n",
            "OrderedDict([('weights', tensor([-1.7980])), ('bias', tensor([1.3856]))])\n",
            "Epoch : 260 | Loss : 0.5025590658187866 | Test loss : 1.1335010528564453\n",
            "OrderedDict([('weights', tensor([-1.7821])), ('bias', tensor([1.3756]))])\n",
            "Epoch : 270 | Loss : 0.4990308880805969 | Test loss : 1.1293503046035767\n",
            "OrderedDict([('weights', tensor([-1.7662])), ('bias', tensor([1.3656]))])\n",
            "Epoch : 280 | Loss : 0.49550265073776245 | Test loss : 1.125199794769287\n",
            "OrderedDict([('weights', tensor([-1.7503])), ('bias', tensor([1.3556]))])\n",
            "Epoch : 290 | Loss : 0.49197453260421753 | Test loss : 1.1210490465164185\n",
            "OrderedDict([('weights', tensor([-1.7344])), ('bias', tensor([1.3456]))])\n"
          ]
        }
      ]
    },
    {
      "cell_type": "code",
      "source": [
        "#Plot the loss curves\n",
        "import numpy as np\n",
        "\n",
        "plt.plot(epoch_count,test_loss_values,label=\"Test loss\")\n",
        "plt.plot(epoch_count,loss_values,label=\"Train loss\")\n",
        "plt.title(\"Testing and test loss curves\")\n",
        "plt.ylabel(\"Loss\")\n",
        "plt.xlabel(\"Epochs\")\n",
        "plt.legend()\n",
        "plt.plot"
      ],
      "metadata": {
        "colab": {
          "base_uri": "https://localhost:8080/",
          "height": 489
        },
        "id": "AzfFmUh0JmHE",
        "outputId": "3834008b-4e20-4837-b2c1-ce907b64d41d"
      },
      "execution_count": 16,
      "outputs": [
        {
          "output_type": "execute_result",
          "data": {
            "text/plain": [
              "<function matplotlib.pyplot.plot(*args, scalex=True, scaley=True, data=None, **kwargs)>"
            ]
          },
          "metadata": {},
          "execution_count": 16
        },
        {
          "output_type": "display_data",
          "data": {
            "text/plain": [
              "<Figure size 640x480 with 1 Axes>"
            ],
            "image/png": "[encoded data removed]"
          },
          "metadata": {}
        }
      ]
    },
    {
      "cell_type": "code",
      "source": [
        "model.state_dict()"
      ],
      "metadata": {
        "colab": {
          "base_uri": "https://localhost:8080/"
        },
        "id": "10NG9DwGDAg9",
        "outputId": "67f8520a-2817-453c-ba8c-e56eccfe3b47"
      },
      "execution_count": 18,
      "outputs": [
        {
          "output_type": "execute_result",
          "data": {
            "text/plain": [
              "OrderedDict([('weights', tensor([-1.7201])), ('bias', tensor([1.3366]))])"
            ]
          },
          "metadata": {},
          "execution_count": 18
        }
      ]
    },
    {
      "cell_type": "code",
      "source": [
        "with torch.inference_mode():\n",
        "    y_preds_new = model(X_test)"
      ],
      "metadata": {
        "id": "QMUZa8gJDDNC"
      },
      "execution_count": 19,
      "outputs": []
    },
    {
      "cell_type": "code",
      "source": [
        "plot_pred(predictions=y_preds)"
      ],
      "metadata": {
        "colab": {
          "base_uri": "https://localhost:8080/",
          "height": 166
        },
        "id": "Jk8BpM4rD3hH",
        "outputId": "de8817f5-4455-44ef-c77e-ddb1d314f26d"
      },
      "execution_count": 20,
      "outputs": [
        {
          "output_type": "error",
          "ename": "NameError",
          "evalue": "ignored",
          "traceback": [
            "\u001b[0;31m---------------------------------------------------------------------------\u001b[0m",
            "\u001b[0;31mNameError\u001b[0m                                 Traceback (most recent call last)",
            "\u001b[0;32m<ipython-input-20-7dc1511493bc>\u001b[0m in \u001b[0;36m<cell line: 1>\u001b[0;34m()\u001b[0m\n\u001b[0;32m----> 1\u001b[0;31m \u001b[0mplot_pred\u001b[0m\u001b[0;34m(\u001b[0m\u001b[0mpredictions\u001b[0m\u001b[0;34m=\u001b[0m\u001b[0my_preds\u001b[0m\u001b[0;34m)\u001b[0m\u001b[0;34m\u001b[0m\u001b[0;34m\u001b[0m\u001b[0m\n\u001b[0m",
            "\u001b[0;31mNameError\u001b[0m: name 'y_preds' is not defined"
          ]
        }
      ]
    },
    {
      "cell_type": "code",
      "source": [
        "plot_pred(predictions=y_preds_new)"
      ],
      "metadata": {
        "id": "vpRWrAHYEAMp"
      },
      "execution_count": null,
      "outputs": []
    },
    {
      "cell_type": "markdown",
      "source": [
        "#Saving model in PyTorch\n",
        " 1. `torch.save()` - allows to save a PyTorch object in Python's pickle format\n",
        " 2. `torch.load()` - allows you load a saved PyTorch object\n",
        " 3. `torch.nn.Module.load_state_dict()` - this allows to load a model's saved state dictionary"
      ],
      "metadata": {
        "id": "k6B9vk_SLcGc"
      }
    },
    {
      "cell_type": "code",
      "source": [
        "from pathlib import Path\n",
        "\n",
        "# 1. Create models directory\n",
        "Model_Path = Path(\"models\")\n",
        "Model_Path.mkdir(parents=True,exist_ok=True)\n",
        "\n",
        "# 2. create model save path\n",
        "Model_name = \"01_pytorch_workflow_model.pth\"\n",
        "Model_Save_path = Model_Path/Model_name\n",
        "\n",
        "# 3. Save the model state dict\n",
        "print(f\"Saving model to : {Model_Save_path}\")\n",
        "torch.save(obj=model.state_dict(),f=Model_Save_path)"
      ],
      "metadata": {
        "id": "PD18CZp3Eeyq"
      },
      "execution_count": null,
      "outputs": []
    },
    {
      "cell_type": "code",
      "source": [
        "#loading a model\n",
        "\n",
        "loaded_model = LinearRegressionModel()\n",
        "loaded_model.state_dict()"
      ],
      "metadata": {
        "id": "DkNRDLJJR_RZ"
      },
      "execution_count": null,
      "outputs": []
    },
    {
      "cell_type": "code",
      "source": [
        "loaded_model.load_state_dict(torch.load(f=Model_Save_path))"
      ],
      "metadata": {
        "id": "PX5-6CzBSmVa"
      },
      "execution_count": null,
      "outputs": []
    },
    {
      "cell_type": "code",
      "source": [
        "loaded_model.state_dict(),model.state_dict()"
      ],
      "metadata": {
        "id": "aDE5GunrTSvG"
      },
      "execution_count": null,
      "outputs": []
    },
    {
      "cell_type": "code",
      "source": [],
      "metadata": {
        "id": "du2YBP7JTXyi"
      },
      "execution_count": null,
      "outputs": []
    },
    {
      "cell_type": "markdown",
      "source": [
        "#Putting Everything together"
      ],
      "metadata": {
        "id": "KVZQzz4JUgDP"
      }
    },
    {
      "cell_type": "code",
      "source": [
        "#import pytorch libraries\n",
        "import torch\n",
        "from torch import nn\n",
        "import matplotlib.pyplot as plt\n",
        "\n",
        "#check pytorch version\n",
        "torch.__version__"
      ],
      "metadata": {
        "colab": {
          "base_uri": "https://localhost:8080/",
          "height": 35
        },
        "id": "owayUu7gUj-A",
        "outputId": "ccddf938-9d9a-4f0d-e44f-04c8482199be"
      },
      "execution_count": 21,
      "outputs": [
        {
          "output_type": "execute_result",
          "data": {
            "text/plain": [
              "'2.0.1+cu118'"
            ],
            "application/vnd.google.colaboratory.intrinsic+json": {
              "type": "string"
            }
          },
          "metadata": {},
          "execution_count": 21
        }
      ]
    },
    {
      "cell_type": "code",
      "source": [
        "# Device agnostic code\n",
        "device = \"cuda\" if torch.cuda.is_available() else \"cpu\"\n",
        "print(f\"Using device : {device}\")"
      ],
      "metadata": {
        "colab": {
          "base_uri": "https://localhost:8080/"
        },
        "id": "W90HqfFjUugE",
        "outputId": "f9c8c10a-0c04-43c0-d589-a77f2df97abe"
      },
      "execution_count": 22,
      "outputs": [
        {
          "output_type": "stream",
          "name": "stdout",
          "text": [
            "Using device : cuda\n"
          ]
        }
      ]
    },
    {
      "cell_type": "code",
      "source": [
        "# Data\n",
        "weight = 0.9\n",
        "bias = 0.4\n",
        "\n",
        "#create range values\n",
        "start = 0\n",
        "end = 1\n",
        "step = 0.02\n",
        "\n",
        "# create X and y\n",
        "X = torch.arange(start,end,step).unsqueeze(dim=1)\n",
        "y = weight * X + bias\n",
        "X[:10],y[:10]"
      ],
      "metadata": {
        "colab": {
          "base_uri": "https://localhost:8080/"
        },
        "id": "lv5_AjBGU5Ts",
        "outputId": "e33f6796-d8e0-4578-9e4e-e6428edec742"
      },
      "execution_count": 23,
      "outputs": [
        {
          "output_type": "execute_result",
          "data": {
            "text/plain": [
              "(tensor([[0.0000],\n",
              "         [0.0200],\n",
              "         [0.0400],\n",
              "         [0.0600],\n",
              "         [0.0800],\n",
              "         [0.1000],\n",
              "         [0.1200],\n",
              "         [0.1400],\n",
              "         [0.1600],\n",
              "         [0.1800]]),\n",
              " tensor([[0.4000],\n",
              "         [0.4180],\n",
              "         [0.4360],\n",
              "         [0.4540],\n",
              "         [0.4720],\n",
              "         [0.4900],\n",
              "         [0.5080],\n",
              "         [0.5260],\n",
              "         [0.5440],\n",
              "         [0.5620]]))"
            ]
          },
          "metadata": {},
          "execution_count": 23
        }
      ]
    },
    {
      "cell_type": "code",
      "source": [
        "#split data\n",
        "train_split = int(0.8 * len(X))\n",
        "X_train, y_train = X[:train_split], y[:train_split]\n",
        "X_test, y_test = X[train_split:], y[train_split:]\n",
        "\n",
        "len(X_train), len(y_train), len(X_test), len(y_test)"
      ],
      "metadata": {
        "colab": {
          "base_uri": "https://localhost:8080/"
        },
        "id": "XWzrSdABYAgM",
        "outputId": "3b4ca6a4-76a3-40b3-b2de-fd257939d019"
      },
      "execution_count": 24,
      "outputs": [
        {
          "output_type": "execute_result",
          "data": {
            "text/plain": [
              "(40, 40, 10, 10)"
            ]
          },
          "metadata": {},
          "execution_count": 24
        }
      ]
    },
    {
      "cell_type": "code",
      "source": [
        "#Building pytorch model\n",
        "class LinearRegressionModel2(nn.Module):\n",
        "    def __init__(self):\n",
        "        super().__init__()\n",
        "        self.linear_layer = nn.Linear(in_features=1,out_features=1)\n",
        "\n",
        "    def forward(self, x: torch.Tensor) -> torch.Tensor :\n",
        "        return self.linear_layer(x)\n",
        "\n",
        "#Set the manual seed when creating the model\n",
        "torch.manual_seed(49)\n",
        "model_1 = LinearRegressionModel2()\n",
        "model_1, model_1.state_dict()"
      ],
      "metadata": {
        "colab": {
          "base_uri": "https://localhost:8080/"
        },
        "id": "6Br2A_yOYbf9",
        "outputId": "fd59a760-44e3-4d1f-d09f-748000572925"
      },
      "execution_count": 25,
      "outputs": [
        {
          "output_type": "execute_result",
          "data": {
            "text/plain": [
              "(LinearRegressionModel2(\n",
              "   (linear_layer): Linear(in_features=1, out_features=1, bias=True)\n",
              " ),\n",
              " OrderedDict([('linear_layer.weight', tensor([[-0.9062]])),\n",
              "              ('linear_layer.bias', tensor([-0.4466]))]))"
            ]
          },
          "metadata": {},
          "execution_count": 25
        }
      ]
    },
    {
      "cell_type": "code",
      "source": [
        "next(model_1.parameters()).device"
      ],
      "metadata": {
        "colab": {
          "base_uri": "https://localhost:8080/"
        },
        "id": "D88gG2XxZpQ-",
        "outputId": "288bc176-0d22-408f-9afd-1692b80b9410"
      },
      "execution_count": 26,
      "outputs": [
        {
          "output_type": "execute_result",
          "data": {
            "text/plain": [
              "device(type='cpu')"
            ]
          },
          "metadata": {},
          "execution_count": 26
        }
      ]
    },
    {
      "cell_type": "code",
      "source": [
        "model_1.to(device)\n",
        "next(model_1.parameters()).device"
      ],
      "metadata": {
        "colab": {
          "base_uri": "https://localhost:8080/"
        },
        "id": "wyaU2avdaO2C",
        "outputId": "bb630a66-7433-4cd4-cd21-3abb128912a3"
      },
      "execution_count": 27,
      "outputs": [
        {
          "output_type": "execute_result",
          "data": {
            "text/plain": [
              "device(type='cuda', index=0)"
            ]
          },
          "metadata": {},
          "execution_count": 27
        }
      ]
    },
    {
      "cell_type": "markdown",
      "source": [
        "#Training\n"
      ],
      "metadata": {
        "id": "MKkblBl-a8pH"
      }
    },
    {
      "cell_type": "code",
      "source": [
        "#create loss function\n",
        "loss_fn = nn.L1Loss()\n",
        "\n",
        "#create optimizer\n",
        "optimizer = torch.optim.SGD(params=model_1.parameters(),lr=0.01)"
      ],
      "metadata": {
        "id": "pti6KRifaWAU"
      },
      "execution_count": 29,
      "outputs": []
    },
    {
      "cell_type": "code",
      "source": [
        "epochs = 1000\n",
        "\n",
        "X_train = X_train.to(device)\n",
        "X_test = X_test.to(device)\n",
        "y_train = y_train.to(device)\n",
        "y_test = y_test.to(device)\n",
        "\n",
        "for epoch in range(epochs):\n",
        "    ## Training\n",
        "    model_1.train()\n",
        "\n",
        "    # 1. Forward pass\n",
        "    y_pred = model_1(X_train)\n",
        "\n",
        "    # 2. Calculate loss\n",
        "    loss = loss_fn(y_pred,y_train)\n",
        "\n",
        "    # 3. Zero grad optimizer\n",
        "    optimizer.zero_grad()\n",
        "\n",
        "    # 4. loss backward\n",
        "    loss.backward()\n",
        "\n",
        "    # 5. step the optimizer\n",
        "    optimizer.step()\n",
        "\n",
        "\n",
        "    ## Testing\n",
        "    model_1.eval()\n",
        "    with torch.inference_mode():\n",
        "        test_pred = model_1(X_test)\n",
        "\n",
        "        #calculate the loss\n",
        "        test_loss = loss_fn(test_pred,y_test)\n",
        "\n",
        "    if epoch % 100 == 0 :\n",
        "        print(f\"Epoch : {epoch} | Train loss : {loss} | Test loss : {test_loss}\")"
      ],
      "metadata": {
        "colab": {
          "base_uri": "https://localhost:8080/"
        },
        "id": "WwkIrN5CbK1y",
        "outputId": "06614e4f-de1a-4233-c2ed-89a5a5e31270"
      },
      "execution_count": 31,
      "outputs": [
        {
          "output_type": "stream",
          "name": "stdout",
          "text": [
            "Epoch : 0 | Train loss : 0.002549829427152872 | Test loss : 0.008392310701310635\n",
            "Epoch : 100 | Train loss : 0.002549829427152872 | Test loss : 0.008392310701310635\n",
            "Epoch : 200 | Train loss : 0.002549829427152872 | Test loss : 0.008392310701310635\n",
            "Epoch : 300 | Train loss : 0.002549829427152872 | Test loss : 0.008392310701310635\n",
            "Epoch : 400 | Train loss : 0.002549829427152872 | Test loss : 0.008392310701310635\n",
            "Epoch : 500 | Train loss : 0.002549829427152872 | Test loss : 0.008392310701310635\n",
            "Epoch : 600 | Train loss : 0.002549829427152872 | Test loss : 0.008392310701310635\n",
            "Epoch : 700 | Train loss : 0.002549829427152872 | Test loss : 0.008392310701310635\n",
            "Epoch : 800 | Train loss : 0.002549829427152872 | Test loss : 0.008392310701310635\n",
            "Epoch : 900 | Train loss : 0.002549829427152872 | Test loss : 0.008392310701310635\n"
          ]
        }
      ]
    },
    {
      "cell_type": "code",
      "source": [
        "from pprint import pprint\n",
        "print(\"The model learned values are : \")\n",
        "pprint(model_1.state_dict())\n",
        "print()\n",
        "print(\"Actual values are : \")\n",
        "print(f\"Weight : {weight}, Bias : {bias}\")"
      ],
      "metadata": {
        "colab": {
          "base_uri": "https://localhost:8080/"
        },
        "id": "_WJ_GAawcuUs",
        "outputId": "1f0245dd-2160-4452-f227-145c51aed48e"
      },
      "execution_count": 35,
      "outputs": [
        {
          "output_type": "stream",
          "name": "stdout",
          "text": [
            "The model learned values are : \n",
            "OrderedDict([('linear_layer.weight', tensor([[0.8949]], device='cuda:0')),\n",
            "             ('linear_layer.bias', tensor([0.3994], device='cuda:0'))])\n",
            "\n",
            "Actual values are : \n",
            "Weight : 0.9, Bias : 0.4\n"
          ]
        }
      ]
    },
    {
      "cell_type": "code",
      "source": [
        "#Making predictions\n",
        "model_1.eval()\n",
        "with torch.inference_mode():\n",
        "    y_preds = model_1(X_test)\n",
        "y_preds"
      ],
      "metadata": {
        "colab": {
          "base_uri": "https://localhost:8080/"
        },
        "id": "CM-d5jSDdDmQ",
        "outputId": "1daed5bd-e1f0-41bc-e26d-0e8b2c57d0f4"
      },
      "execution_count": 38,
      "outputs": [
        {
          "output_type": "execute_result",
          "data": {
            "text/plain": [
              "tensor([[1.1154],\n",
              "        [1.1333],\n",
              "        [1.1512],\n",
              "        [1.1691],\n",
              "        [1.1870],\n",
              "        [1.2049],\n",
              "        [1.2228],\n",
              "        [1.2407],\n",
              "        [1.2586],\n",
              "        [1.2765]], device='cuda:0')"
            ]
          },
          "metadata": {},
          "execution_count": 38
        }
      ]
    },
    {
      "cell_type": "code",
      "source": [
        "plot_pred(predictions=y_preds.cpu())"
      ],
      "metadata": {
        "colab": {
          "base_uri": "https://localhost:8080/",
          "height": 899
        },
        "id": "1wLrYBajdoO-",
        "outputId": "758a4dbc-c9c6-4491-9672-0689db466d19"
      },
      "execution_count": 41,
      "outputs": [
        {
          "output_type": "error",
          "ename": "TypeError",
          "evalue": "ignored",
          "traceback": [
            "\u001b[0;31m---------------------------------------------------------------------------\u001b[0m",
            "\u001b[0;31mTypeError\u001b[0m                                 Traceback (most recent call last)",
            "\u001b[0;32m<ipython-input-41-424a20779ec4>\u001b[0m in \u001b[0;36m<cell line: 1>\u001b[0;34m()\u001b[0m\n\u001b[0;32m----> 1\u001b[0;31m \u001b[0mplot_pred\u001b[0m\u001b[0;34m(\u001b[0m\u001b[0mpredictions\u001b[0m\u001b[0;34m=\u001b[0m\u001b[0my_preds\u001b[0m\u001b[0;34m.\u001b[0m\u001b[0mcpu\u001b[0m\u001b[0;34m(\u001b[0m\u001b[0;34m)\u001b[0m\u001b[0;34m)\u001b[0m\u001b[0;34m\u001b[0m\u001b[0;34m\u001b[0m\u001b[0m\n\u001b[0m",
            "\u001b[0;32m<ipython-input-39-ccc3c740f158>\u001b[0m in \u001b[0;36mplot_pred\u001b[0;34m(train_data, train_labels, test_data, test_labels, predictions)\u001b[0m\n\u001b[1;32m      5\u001b[0m \u001b[0;34m\u001b[0m\u001b[0m\n\u001b[1;32m      6\u001b[0m     \u001b[0;31m#plot training data in blue\u001b[0m\u001b[0;34m\u001b[0m\u001b[0;34m\u001b[0m\u001b[0m\n\u001b[0;32m----> 7\u001b[0;31m     \u001b[0mplt\u001b[0m\u001b[0;34m.\u001b[0m\u001b[0mscatter\u001b[0m\u001b[0;34m(\u001b[0m\u001b[0mtrain_data\u001b[0m\u001b[0;34m,\u001b[0m\u001b[0mtrain_labels\u001b[0m\u001b[0;34m,\u001b[0m\u001b[0mc\u001b[0m\u001b[0;34m=\u001b[0m\u001b[0;34m\"b\"\u001b[0m\u001b[0;34m,\u001b[0m\u001b[0ms\u001b[0m\u001b[0;34m=\u001b[0m\u001b[0;36m4\u001b[0m\u001b[0;34m,\u001b[0m\u001b[0mlabel\u001b[0m\u001b[0;34m=\u001b[0m\u001b[0;34m\"Training data\"\u001b[0m\u001b[0;34m)\u001b[0m\u001b[0;34m\u001b[0m\u001b[0;34m\u001b[0m\u001b[0m\n\u001b[0m\u001b[1;32m      8\u001b[0m \u001b[0;34m\u001b[0m\u001b[0m\n\u001b[1;32m      9\u001b[0m     \u001b[0;31m#plot test data in blue\u001b[0m\u001b[0;34m\u001b[0m\u001b[0;34m\u001b[0m\u001b[0m\n",
            "\u001b[0;32m/usr/local/lib/python3.10/dist-packages/matplotlib/pyplot.py\u001b[0m in \u001b[0;36mscatter\u001b[0;34m(x, y, s, c, marker, cmap, norm, vmin, vmax, alpha, linewidths, edgecolors, plotnonfinite, data, **kwargs)\u001b[0m\n\u001b[1;32m   2860\u001b[0m         \u001b[0mvmin\u001b[0m\u001b[0;34m=\u001b[0m\u001b[0;32mNone\u001b[0m\u001b[0;34m,\u001b[0m \u001b[0mvmax\u001b[0m\u001b[0;34m=\u001b[0m\u001b[0;32mNone\u001b[0m\u001b[0;34m,\u001b[0m \u001b[0malpha\u001b[0m\u001b[0;34m=\u001b[0m\u001b[0;32mNone\u001b[0m\u001b[0;34m,\u001b[0m \u001b[0mlinewidths\u001b[0m\u001b[0;34m=\u001b[0m\u001b[0;32mNone\u001b[0m\u001b[0;34m,\u001b[0m \u001b[0;34m*\u001b[0m\u001b[0;34m,\u001b[0m\u001b[0;34m\u001b[0m\u001b[0;34m\u001b[0m\u001b[0m\n\u001b[1;32m   2861\u001b[0m         edgecolors=None, plotnonfinite=False, data=None, **kwargs):\n\u001b[0;32m-> 2862\u001b[0;31m     __ret = gca().scatter(\n\u001b[0m\u001b[1;32m   2863\u001b[0m         \u001b[0mx\u001b[0m\u001b[0;34m,\u001b[0m \u001b[0my\u001b[0m\u001b[0;34m,\u001b[0m \u001b[0ms\u001b[0m\u001b[0;34m=\u001b[0m\u001b[0ms\u001b[0m\u001b[0;34m,\u001b[0m \u001b[0mc\u001b[0m\u001b[0;34m=\u001b[0m\u001b[0mc\u001b[0m\u001b[0;34m,\u001b[0m \u001b[0mmarker\u001b[0m\u001b[0;34m=\u001b[0m\u001b[0mmarker\u001b[0m\u001b[0;34m,\u001b[0m \u001b[0mcmap\u001b[0m\u001b[0;34m=\u001b[0m\u001b[0mcmap\u001b[0m\u001b[0;34m,\u001b[0m \u001b[0mnorm\u001b[0m\u001b[0;34m=\u001b[0m\u001b[0mnorm\u001b[0m\u001b[0;34m,\u001b[0m\u001b[0;34m\u001b[0m\u001b[0;34m\u001b[0m\u001b[0m\n\u001b[1;32m   2864\u001b[0m         \u001b[0mvmin\u001b[0m\u001b[0;34m=\u001b[0m\u001b[0mvmin\u001b[0m\u001b[0;34m,\u001b[0m \u001b[0mvmax\u001b[0m\u001b[0;34m=\u001b[0m\u001b[0mvmax\u001b[0m\u001b[0;34m,\u001b[0m \u001b[0malpha\u001b[0m\u001b[0;34m=\u001b[0m\u001b[0malpha\u001b[0m\u001b[0;34m,\u001b[0m \u001b[0mlinewidths\u001b[0m\u001b[0;34m=\u001b[0m\u001b[0mlinewidths\u001b[0m\u001b[0;34m,\u001b[0m\u001b[0;34m\u001b[0m\u001b[0;34m\u001b[0m\u001b[0m\n",
            "\u001b[0;32m/usr/local/lib/python3.10/dist-packages/matplotlib/__init__.py\u001b[0m in \u001b[0;36minner\u001b[0;34m(ax, data, *args, **kwargs)\u001b[0m\n\u001b[1;32m   1440\u001b[0m     \u001b[0;32mdef\u001b[0m \u001b[0minner\u001b[0m\u001b[0;34m(\u001b[0m\u001b[0max\u001b[0m\u001b[0;34m,\u001b[0m \u001b[0;34m*\u001b[0m\u001b[0margs\u001b[0m\u001b[0;34m,\u001b[0m \u001b[0mdata\u001b[0m\u001b[0;34m=\u001b[0m\u001b[0;32mNone\u001b[0m\u001b[0;34m,\u001b[0m \u001b[0;34m**\u001b[0m\u001b[0mkwargs\u001b[0m\u001b[0;34m)\u001b[0m\u001b[0;34m:\u001b[0m\u001b[0;34m\u001b[0m\u001b[0;34m\u001b[0m\u001b[0m\n\u001b[1;32m   1441\u001b[0m         \u001b[0;32mif\u001b[0m \u001b[0mdata\u001b[0m \u001b[0;32mis\u001b[0m \u001b[0;32mNone\u001b[0m\u001b[0;34m:\u001b[0m\u001b[0;34m\u001b[0m\u001b[0;34m\u001b[0m\u001b[0m\n\u001b[0;32m-> 1442\u001b[0;31m             \u001b[0;32mreturn\u001b[0m \u001b[0mfunc\u001b[0m\u001b[0;34m(\u001b[0m\u001b[0max\u001b[0m\u001b[0;34m,\u001b[0m \u001b[0;34m*\u001b[0m\u001b[0mmap\u001b[0m\u001b[0;34m(\u001b[0m\u001b[0msanitize_sequence\u001b[0m\u001b[0;34m,\u001b[0m \u001b[0margs\u001b[0m\u001b[0;34m)\u001b[0m\u001b[0;34m,\u001b[0m \u001b[0;34m**\u001b[0m\u001b[0mkwargs\u001b[0m\u001b[0;34m)\u001b[0m\u001b[0;34m\u001b[0m\u001b[0;34m\u001b[0m\u001b[0m\n\u001b[0m\u001b[1;32m   1443\u001b[0m \u001b[0;34m\u001b[0m\u001b[0m\n\u001b[1;32m   1444\u001b[0m         \u001b[0mbound\u001b[0m \u001b[0;34m=\u001b[0m \u001b[0mnew_sig\u001b[0m\u001b[0;34m.\u001b[0m\u001b[0mbind\u001b[0m\u001b[0;34m(\u001b[0m\u001b[0max\u001b[0m\u001b[0;34m,\u001b[0m \u001b[0;34m*\u001b[0m\u001b[0margs\u001b[0m\u001b[0;34m,\u001b[0m \u001b[0;34m**\u001b[0m\u001b[0mkwargs\u001b[0m\u001b[0;34m)\u001b[0m\u001b[0;34m\u001b[0m\u001b[0;34m\u001b[0m\u001b[0m\n",
            "\u001b[0;32m/usr/local/lib/python3.10/dist-packages/matplotlib/axes/_axes.py\u001b[0m in \u001b[0;36mscatter\u001b[0;34m(self, x, y, s, c, marker, cmap, norm, vmin, vmax, alpha, linewidths, edgecolors, plotnonfinite, **kwargs)\u001b[0m\n\u001b[1;32m   4579\u001b[0m         \u001b[0;31m# np.ma.ravel yields an ndarray, not a masked array,\u001b[0m\u001b[0;34m\u001b[0m\u001b[0;34m\u001b[0m\u001b[0m\n\u001b[1;32m   4580\u001b[0m         \u001b[0;31m# unless its argument is a masked array.\u001b[0m\u001b[0;34m\u001b[0m\u001b[0;34m\u001b[0m\u001b[0m\n\u001b[0;32m-> 4581\u001b[0;31m         \u001b[0mx\u001b[0m \u001b[0;34m=\u001b[0m \u001b[0mnp\u001b[0m\u001b[0;34m.\u001b[0m\u001b[0mma\u001b[0m\u001b[0;34m.\u001b[0m\u001b[0mravel\u001b[0m\u001b[0;34m(\u001b[0m\u001b[0mx\u001b[0m\u001b[0;34m)\u001b[0m\u001b[0;34m\u001b[0m\u001b[0;34m\u001b[0m\u001b[0m\n\u001b[0m\u001b[1;32m   4582\u001b[0m         \u001b[0my\u001b[0m \u001b[0;34m=\u001b[0m \u001b[0mnp\u001b[0m\u001b[0;34m.\u001b[0m\u001b[0mma\u001b[0m\u001b[0;34m.\u001b[0m\u001b[0mravel\u001b[0m\u001b[0;34m(\u001b[0m\u001b[0my\u001b[0m\u001b[0;34m)\u001b[0m\u001b[0;34m\u001b[0m\u001b[0;34m\u001b[0m\u001b[0m\n\u001b[1;32m   4583\u001b[0m         \u001b[0;32mif\u001b[0m \u001b[0mx\u001b[0m\u001b[0;34m.\u001b[0m\u001b[0msize\u001b[0m \u001b[0;34m!=\u001b[0m \u001b[0my\u001b[0m\u001b[0;34m.\u001b[0m\u001b[0msize\u001b[0m\u001b[0;34m:\u001b[0m\u001b[0;34m\u001b[0m\u001b[0;34m\u001b[0m\u001b[0m\n",
            "\u001b[0;32m/usr/local/lib/python3.10/dist-packages/numpy/ma/core.py\u001b[0m in \u001b[0;36m__call__\u001b[0;34m(self, a, *args, **params)\u001b[0m\n\u001b[1;32m   6771\u001b[0m             \u001b[0ma\u001b[0m\u001b[0;34m,\u001b[0m \u001b[0margs\u001b[0m\u001b[0;34m[\u001b[0m\u001b[0;36m0\u001b[0m\u001b[0;34m]\u001b[0m \u001b[0;34m=\u001b[0m \u001b[0margs\u001b[0m\u001b[0;34m[\u001b[0m\u001b[0;36m0\u001b[0m\u001b[0;34m]\u001b[0m\u001b[0;34m,\u001b[0m \u001b[0ma\u001b[0m\u001b[0;34m\u001b[0m\u001b[0;34m\u001b[0m\u001b[0m\n\u001b[1;32m   6772\u001b[0m \u001b[0;34m\u001b[0m\u001b[0m\n\u001b[0;32m-> 6773\u001b[0;31m         \u001b[0mmarr\u001b[0m \u001b[0;34m=\u001b[0m \u001b[0masanyarray\u001b[0m\u001b[0;34m(\u001b[0m\u001b[0ma\u001b[0m\u001b[0;34m)\u001b[0m\u001b[0;34m\u001b[0m\u001b[0;34m\u001b[0m\u001b[0m\n\u001b[0m\u001b[1;32m   6774\u001b[0m         \u001b[0mmethod_name\u001b[0m \u001b[0;34m=\u001b[0m \u001b[0mself\u001b[0m\u001b[0;34m.\u001b[0m\u001b[0m__name__\u001b[0m\u001b[0;34m\u001b[0m\u001b[0;34m\u001b[0m\u001b[0m\n\u001b[1;32m   6775\u001b[0m         \u001b[0mmethod\u001b[0m \u001b[0;34m=\u001b[0m \u001b[0mgetattr\u001b[0m\u001b[0;34m(\u001b[0m\u001b[0mtype\u001b[0m\u001b[0;34m(\u001b[0m\u001b[0mmarr\u001b[0m\u001b[0;34m)\u001b[0m\u001b[0;34m,\u001b[0m \u001b[0mmethod_name\u001b[0m\u001b[0;34m,\u001b[0m \u001b[0;32mNone\u001b[0m\u001b[0;34m)\u001b[0m\u001b[0;34m\u001b[0m\u001b[0;34m\u001b[0m\u001b[0m\n",
            "\u001b[0;32m/usr/local/lib/python3.10/dist-packages/numpy/ma/core.py\u001b[0m in \u001b[0;36masanyarray\u001b[0;34m(a, dtype)\u001b[0m\n\u001b[1;32m   8003\u001b[0m     \u001b[0;32mif\u001b[0m \u001b[0misinstance\u001b[0m\u001b[0;34m(\u001b[0m\u001b[0ma\u001b[0m\u001b[0;34m,\u001b[0m \u001b[0mMaskedArray\u001b[0m\u001b[0;34m)\u001b[0m \u001b[0;32mand\u001b[0m \u001b[0;34m(\u001b[0m\u001b[0mdtype\u001b[0m \u001b[0;32mis\u001b[0m \u001b[0;32mNone\u001b[0m \u001b[0;32mor\u001b[0m \u001b[0mdtype\u001b[0m \u001b[0;34m==\u001b[0m \u001b[0ma\u001b[0m\u001b[0;34m.\u001b[0m\u001b[0mdtype\u001b[0m\u001b[0;34m)\u001b[0m\u001b[0;34m:\u001b[0m\u001b[0;34m\u001b[0m\u001b[0;34m\u001b[0m\u001b[0m\n\u001b[1;32m   8004\u001b[0m         \u001b[0;32mreturn\u001b[0m \u001b[0ma\u001b[0m\u001b[0;34m\u001b[0m\u001b[0;34m\u001b[0m\u001b[0m\n\u001b[0;32m-> 8005\u001b[0;31m     \u001b[0;32mreturn\u001b[0m \u001b[0mmasked_array\u001b[0m\u001b[0;34m(\u001b[0m\u001b[0ma\u001b[0m\u001b[0;34m,\u001b[0m \u001b[0mdtype\u001b[0m\u001b[0;34m=\u001b[0m\u001b[0mdtype\u001b[0m\u001b[0;34m,\u001b[0m \u001b[0mcopy\u001b[0m\u001b[0;34m=\u001b[0m\u001b[0;32mFalse\u001b[0m\u001b[0;34m,\u001b[0m \u001b[0mkeep_mask\u001b[0m\u001b[0;34m=\u001b[0m\u001b[0;32mTrue\u001b[0m\u001b[0;34m,\u001b[0m \u001b[0msubok\u001b[0m\u001b[0;34m=\u001b[0m\u001b[0;32mTrue\u001b[0m\u001b[0;34m)\u001b[0m\u001b[0;34m\u001b[0m\u001b[0;34m\u001b[0m\u001b[0m\n\u001b[0m\u001b[1;32m   8006\u001b[0m \u001b[0;34m\u001b[0m\u001b[0m\n\u001b[1;32m   8007\u001b[0m \u001b[0;34m\u001b[0m\u001b[0m\n",
            "\u001b[0;32m/usr/local/lib/python3.10/dist-packages/numpy/ma/core.py\u001b[0m in \u001b[0;36m__new__\u001b[0;34m(cls, data, mask, dtype, copy, subok, ndmin, fill_value, keep_mask, hard_mask, shrink, order)\u001b[0m\n\u001b[1;32m   2824\u001b[0m         \"\"\"\n\u001b[1;32m   2825\u001b[0m         \u001b[0;31m# Process data.\u001b[0m\u001b[0;34m\u001b[0m\u001b[0;34m\u001b[0m\u001b[0m\n\u001b[0;32m-> 2826\u001b[0;31m         _data = np.array(data, dtype=dtype, copy=copy,\n\u001b[0m\u001b[1;32m   2827\u001b[0m                          order=order, subok=True, ndmin=ndmin)\n\u001b[1;32m   2828\u001b[0m         \u001b[0m_baseclass\u001b[0m \u001b[0;34m=\u001b[0m \u001b[0mgetattr\u001b[0m\u001b[0;34m(\u001b[0m\u001b[0mdata\u001b[0m\u001b[0;34m,\u001b[0m \u001b[0;34m'_baseclass'\u001b[0m\u001b[0;34m,\u001b[0m \u001b[0mtype\u001b[0m\u001b[0;34m(\u001b[0m\u001b[0m_data\u001b[0m\u001b[0;34m)\u001b[0m\u001b[0;34m)\u001b[0m\u001b[0;34m\u001b[0m\u001b[0;34m\u001b[0m\u001b[0m\n",
            "\u001b[0;32m/usr/local/lib/python3.10/dist-packages/torch/_tensor.py\u001b[0m in \u001b[0;36m__array__\u001b[0;34m(self, dtype)\u001b[0m\n\u001b[1;32m    968\u001b[0m             \u001b[0;32mreturn\u001b[0m \u001b[0mhandle_torch_function\u001b[0m\u001b[0;34m(\u001b[0m\u001b[0mTensor\u001b[0m\u001b[0;34m.\u001b[0m\u001b[0m__array__\u001b[0m\u001b[0;34m,\u001b[0m \u001b[0;34m(\u001b[0m\u001b[0mself\u001b[0m\u001b[0;34m,\u001b[0m\u001b[0;34m)\u001b[0m\u001b[0;34m,\u001b[0m \u001b[0mself\u001b[0m\u001b[0;34m,\u001b[0m \u001b[0mdtype\u001b[0m\u001b[0;34m=\u001b[0m\u001b[0mdtype\u001b[0m\u001b[0;34m)\u001b[0m\u001b[0;34m\u001b[0m\u001b[0;34m\u001b[0m\u001b[0m\n\u001b[1;32m    969\u001b[0m         \u001b[0;32mif\u001b[0m \u001b[0mdtype\u001b[0m \u001b[0;32mis\u001b[0m \u001b[0;32mNone\u001b[0m\u001b[0;34m:\u001b[0m\u001b[0;34m\u001b[0m\u001b[0;34m\u001b[0m\u001b[0m\n\u001b[0;32m--> 970\u001b[0;31m             \u001b[0;32mreturn\u001b[0m \u001b[0mself\u001b[0m\u001b[0;34m.\u001b[0m\u001b[0mnumpy\u001b[0m\u001b[0;34m(\u001b[0m\u001b[0;34m)\u001b[0m\u001b[0;34m\u001b[0m\u001b[0;34m\u001b[0m\u001b[0m\n\u001b[0m\u001b[1;32m    971\u001b[0m         \u001b[0;32melse\u001b[0m\u001b[0;34m:\u001b[0m\u001b[0;34m\u001b[0m\u001b[0;34m\u001b[0m\u001b[0m\n\u001b[1;32m    972\u001b[0m             \u001b[0;32mreturn\u001b[0m \u001b[0mself\u001b[0m\u001b[0;34m.\u001b[0m\u001b[0mnumpy\u001b[0m\u001b[0;34m(\u001b[0m\u001b[0;34m)\u001b[0m\u001b[0;34m.\u001b[0m\u001b[0mastype\u001b[0m\u001b[0;34m(\u001b[0m\u001b[0mdtype\u001b[0m\u001b[0;34m,\u001b[0m \u001b[0mcopy\u001b[0m\u001b[0;34m=\u001b[0m\u001b[0;32mFalse\u001b[0m\u001b[0;34m)\u001b[0m\u001b[0;34m\u001b[0m\u001b[0;34m\u001b[0m\u001b[0m\n",
            "\u001b[0;31mTypeError\u001b[0m: can't convert cuda:0 device type tensor to numpy. Use Tensor.cpu() to copy the tensor to host memory first."
          ]
        },
        {
          "output_type": "display_data",
          "data": {
            "text/plain": [
              "<Figure size 1000x700 with 1 Axes>"
            ],
            "image/png": "[encoded data removed]"
          },
          "metadata": {}
        }
      ]
    },
    {
      "cell_type": "code",
      "source": [
        "#Saving the model\n",
        "\n",
        "from pathlib import Path\n",
        "\n",
        "MODEL_PATH = Path(\"models\")\n",
        "MODEL_PATH.mkdir(parents=True,exist_ok=True)\n",
        "\n",
        "MODEL_NAME = \"01_pytorch_model_01.pt\"\n",
        "MODEL_SAVE_PATH = MODEL_PATH/MODEL_NAME\n",
        "\n",
        "print(f\"Saving model to : {MODEL_SAVE_PATH}\")\n",
        "torch.save(obj=model_1.state_dict(),f=MODEL_SAVE_PATH)"
      ],
      "metadata": {
        "colab": {
          "base_uri": "https://localhost:8080/"
        },
        "id": "38xaa7_hd3wh",
        "outputId": "e3a407c5-c24c-47d6-d4e5-53e835c57033"
      },
      "execution_count": 43,
      "outputs": [
        {
          "output_type": "stream",
          "name": "stdout",
          "text": [
            "Saving model to : models/01_pytorch_model_01.pt\n"
          ]
        }
      ]
    },
    {
      "cell_type": "code",
      "source": [
        "# Loading into a fresh instance\n",
        "loaded_model_1 = LinearRegressionModel2()\n",
        "\n",
        "loaded_model_1.load_state_dict(torch.load(MODEL_SAVE_PATH))\n",
        "\n",
        "loaded_model_1.to(device)\n",
        "\n",
        "print(f\"Loaded model : \\n{loaded_model_1}\")\n",
        "print(f\"Model on device : \\n{next(loaded_model_1.parameters()).device}\")"
      ],
      "metadata": {
        "colab": {
          "base_uri": "https://localhost:8080/"
        },
        "id": "owxAj-SAembz",
        "outputId": "c6e7bc5e-28b9-487f-d540-6f77efc93a44"
      },
      "execution_count": 44,
      "outputs": [
        {
          "output_type": "stream",
          "name": "stdout",
          "text": [
            "Loaded model : \n",
            "LinearRegressionModel2(\n",
            "  (linear_layer): Linear(in_features=1, out_features=1, bias=True)\n",
            ")\n",
            "Model on device : \n",
            "cuda:0\n"
          ]
        }
      ]
    },
    {
      "cell_type": "code",
      "source": [
        "with torch.inference_mode():\n",
        "    loaded_model_1_preds = loaded_model_1(X_test)\n",
        "y_preds == loaded_model_1_preds"
      ],
      "metadata": {
        "colab": {
          "base_uri": "https://localhost:8080/"
        },
        "id": "M1z1ZeVKfK89",
        "outputId": "be43a9ac-9e08-41f4-d97a-18c067a5b21d"
      },
      "execution_count": 45,
      "outputs": [
        {
          "output_type": "execute_result",
          "data": {
            "text/plain": [
              "tensor([[True],\n",
              "        [True],\n",
              "        [True],\n",
              "        [True],\n",
              "        [True],\n",
              "        [True],\n",
              "        [True],\n",
              "        [True],\n",
              "        [True],\n",
              "        [True]], device='cuda:0')"
            ]
          },
          "metadata": {},
          "execution_count": 45
        }
      ]
    },
    {
      "cell_type": "code",
      "source": [],
      "metadata": {
        "id": "GTKtNihofXis"
      },
      "execution_count": null,
      "outputs": []
    }
  ]
}